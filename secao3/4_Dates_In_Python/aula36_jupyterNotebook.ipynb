{
 "cells": [
  {
   "cell_type": "markdown",
   "id": "f4e73d21-3b52-4bae-8576-f642e809d32f",
   "metadata": {},
   "source": [
    "# Aprendendo Jupyter.\n",
    "Essa linha cria a variavel `a`"
   ]
  },
  {
   "cell_type": "code",
   "execution_count": 8,
   "id": "65a1936c-09f9-40a7-86d9-63a6a7b4a472",
   "metadata": {},
   "outputs": [
    {
     "data": {
      "text/plain": [
       "4"
      ]
     },
     "execution_count": 8,
     "metadata": {},
     "output_type": "execute_result"
    }
   ],
   "source": [
    "a = 4\n",
    "a"
   ]
  },
  {
   "cell_type": "markdown",
   "id": "f30e5218-f759-48dd-a267-c69c3ee0e98b",
   "metadata": {},
   "source": [
    "Essa linha tem o valor da variável `a` em dobro"
   ]
  },
  {
   "cell_type": "code",
   "execution_count": 9,
   "id": "8effa935-a156-4ca2-9993-3d2de814a759",
   "metadata": {},
   "outputs": [
    {
     "data": {
      "text/plain": [
       "8"
      ]
     },
     "execution_count": 9,
     "metadata": {},
     "output_type": "execute_result"
    }
   ],
   "source": [
    "b = a * 2\n",
    "b"
   ]
  },
  {
   "cell_type": "markdown",
   "id": "bcf80673-7108-41ee-a7c8-4855ba015b28",
   "metadata": {},
   "source": [
    "Essa linha mostra o valor de `a` + `b` "
   ]
  },
  {
   "cell_type": "code",
   "execution_count": 10,
   "id": "5a4084d0-ff6e-41da-83d7-93a23d907210",
   "metadata": {},
   "outputs": [
    {
     "data": {
      "text/plain": [
       "12"
      ]
     },
     "execution_count": 10,
     "metadata": {},
     "output_type": "execute_result"
    }
   ],
   "source": [
    "a + b"
   ]
  },
  {
   "cell_type": "code",
   "execution_count": null,
   "id": "2320f536-2763-49b2-ad86-8b1c7b0a8a30",
   "metadata": {},
   "outputs": [],
   "source": []
  }
 ],
 "metadata": {
  "kernelspec": {
   "display_name": "Python 3 (ipykernel)",
   "language": "python",
   "name": "python3"
  },
  "language_info": {
   "codemirror_mode": {
    "name": "ipython",
    "version": 3
   },
   "file_extension": ".py",
   "mimetype": "text/x-python",
   "name": "python",
   "nbconvert_exporter": "python",
   "pygments_lexer": "ipython3",
   "version": "3.13.0"
  }
 },
 "nbformat": 4,
 "nbformat_minor": 5
}
